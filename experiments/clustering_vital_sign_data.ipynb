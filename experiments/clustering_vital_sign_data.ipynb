{
 "cells": [
  {
   "cell_type": "code",
   "execution_count": 1,
   "metadata": {},
   "outputs": [],
   "source": [
    "import pandas as pd\n",
    "import numpy as np\n",
    "import os\n",
    "import seaborn as sns\n",
    "import matplotlib.pyplot as plt"
   ]
  },
  {
   "cell_type": "code",
   "execution_count": 2,
   "metadata": {},
   "outputs": [],
   "source": [
    "tidy_data = pd.read_csv('vitalsing_data.csv').sample(frac=1)\n",
    "\n",
    "tidy_data = tidy_data.iloc[0:4000, :]\n",
    "\n",
    "X_data = tidy_data.drop(['ID','CHT_NO', 'admin_date', 'discharge_date',\n",
    "                         'AllMortality', 'CVDeath  ', 'Death Date', 'SurvivalWeeks'], axis=1)\n",
    "y_data = tidy_data[['SurvivalWeeks']]\n",
    "y_data = (y_data < 24).astype(int)\n",
    "\n",
    "categorical_ix = [0, 2, 3, 4, 5, 6, 7, 8]\n",
    "categorical_columns = X_data.columns[categorical_ix].values\n",
    "numerical_columns =  np.setdiff1d(X_data.columns, categorical_columns)"
   ]
  },
  {
   "cell_type": "code",
   "execution_count": 3,
   "metadata": {},
   "outputs": [
    {
     "name": "stdout",
     "output_type": "stream",
     "text": [
      "       Sex   Age   AF   DM  HTN  Dyslipidemia  CHF  Smoking  \\\n",
      "10925  0.0  81.0  0.0  1.0  1.0           1.0  0.0      0.0   \n",
      "8468   1.0  68.0  0.0  0.0  0.0           0.0  0.0      1.0   \n",
      "2386   0.0  47.0  0.0  0.0  0.0           0.0  0.0      0.0   \n",
      "12996  0.0  70.0  0.0  0.0  0.0           0.0  0.0      0.0   \n",
      "3923   0.0  74.0  0.0  0.0  1.0           0.0  0.0      1.0   \n",
      "\n",
      "       Cancer before adm    E  ...  DBP SD  DBPSD G  DBP CV  DBPCV G  Mean RR  \\\n",
      "10925                0.0  4.0  ...     7.6      2.0    0.10      3.0     17.2   \n",
      "8468                 0.0  4.0  ...    10.5      3.0    0.14      4.0     17.0   \n",
      "2386                 0.0  4.0  ...     9.5      3.0    0.09      3.0     18.1   \n",
      "12996                0.0  4.0  ...    10.2      3.0    0.13      4.0     16.8   \n",
      "3923                 0.0  4.0  ...    10.6      3.0    0.11      3.0     16.1   \n",
      "\n",
      "       MeanRR G  RR SD  RRSD G  RR CV  RRCV G  \n",
      "10925       3.0    0.8     1.0   0.05     2.0  \n",
      "8468        3.0    1.0     2.0   0.06     2.0  \n",
      "2386        4.0    1.4     2.0   0.08     2.0  \n",
      "12996       2.0    0.9     1.0   0.05     2.0  \n",
      "3923        2.0    0.3     1.0   0.02     1.0  \n",
      "\n",
      "[5 rows x 41 columns]\n",
      "['Sex' 'AF' 'DM' 'HTN' 'Dyslipidemia' 'CHF' 'Smoking' 'Cancer before adm']\n",
      "['ALT' 'Age' 'CHOL' 'DBP CV' 'DBP SD' 'DBPCV G' 'DBPSD G' 'E' 'HR CV'\n",
      " 'HR SD' 'HRCV G' 'HRSD G' 'M' 'MPsum' 'Mean DBP' 'Mean HR' 'Mean RR'\n",
      " 'Mean SBP' 'Mean SBP G' 'MeanDBP G' 'MeanHR G' 'MeanRR G' 'RR CV' 'RR SD'\n",
      " 'RRCV G' 'RRSD G' 'SBP CV' 'SBP SD' 'SBPCV G' 'SBPSD G' 'SSI' 'TG' 'V']\n"
     ]
    }
   ],
   "source": [
    "print(X_data.head())\n",
    "print(categorical_columns)\n",
    "print(numerical_columns)"
   ]
  },
  {
   "cell_type": "code",
   "execution_count": 4,
   "metadata": {},
   "outputs": [
    {
     "name": "stdout",
     "output_type": "stream",
     "text": [
      "       Sex       Age   AF   DM  HTN  Dyslipidemia  CHF  Smoking  \\\n",
      "10925  0.0  1.139827  0.0  1.0  1.0           1.0  0.0      0.0   \n",
      "8468   1.0  0.119338  0.0  0.0  0.0           0.0  0.0      1.0   \n",
      "2386   0.0 -1.529143  0.0  0.0  0.0           0.0  0.0      0.0   \n",
      "12996  0.0  0.276336  0.0  0.0  0.0           0.0  0.0      0.0   \n",
      "3923   0.0  0.590333  0.0  0.0  1.0           0.0  0.0      1.0   \n",
      "\n",
      "       Cancer before adm         E  ...    DBP SD   DBPSD G    DBP CV  \\\n",
      "10925                0.0  0.208479  ... -0.596463 -1.086968 -0.253385   \n",
      "8468                 0.0  0.208479  ...  0.439296  0.239007  0.876852   \n",
      "2386                 0.0  0.208479  ...  0.082137  0.239007 -0.535944   \n",
      "12996                0.0  0.208479  ...  0.332148  0.239007  0.594293   \n",
      "3923                 0.0  0.208479  ...  0.475012  0.239007  0.029174   \n",
      "\n",
      "        DBPCV G   Mean RR  MeanRR G     RR SD    RRSD G     RR CV    RRCV G  \n",
      "10925 -0.234079 -0.324525 -0.055384 -0.897512 -1.179986 -0.799564 -0.527312  \n",
      "8468   0.917601 -0.496686 -0.055384 -0.590145  0.168184 -0.519482 -0.527312  \n",
      "2386  -0.234079  0.450202  0.984696  0.024589  0.168184  0.040682 -0.527312  \n",
      "12996  0.917601 -0.668848 -1.095464 -0.743829 -1.179986 -0.799564 -0.527312  \n",
      "3923  -0.234079 -1.271413 -1.095464 -1.665931 -1.179986 -1.639809 -1.648060  \n",
      "\n",
      "[5 rows x 41 columns]\n"
     ]
    }
   ],
   "source": [
    "from sklearn.preprocessing import StandardScaler, OneHotEncoder\n",
    "\n",
    "X_data[numerical_columns] = StandardScaler().fit_transform(X_data[numerical_columns])\n",
    "# one-hot\n",
    "X_data_one_hot = pd.get_dummies(X_data, columns=categorical_columns)\n",
    "print(X_data.head())"
   ]
  },
  {
   "cell_type": "code",
   "execution_count": null,
   "metadata": {},
   "outputs": [
    {
     "name": "stderr",
     "output_type": "stream",
     "text": [
      "C:\\Users\\USER\\anaconda3\\envs\\reStroke\\lib\\site-packages\\umap\\umap_.py:1728: UserWarning: custom distance metric does not return gradient; inverse_transform will be unavailable. To enable using inverse_transform method method, define a distance function that returns a tuple of (distance [float], gradient [np.array])\n",
      "  warn(\n"
     ]
    }
   ],
   "source": [
    "import distython\n",
    "import umap\n",
    "\n",
    "heom_metric = distython.HEOM(X_data, categorical_ix)\n",
    "reducer = umap.UMAP(metric=heom_metric.heom, random_state=369)\n",
    "umap_heom_embedding = reducer.fit_transform(X_data)\n",
    "\n",
    "plt.scatter(\n",
    "    umap_heom_embedding[:, 0],\n",
    "    umap_heom_embedding[:, 1],\n",
    "    c=y_data.values.astype(int), s=1, cmap='Spectral')\n",
    "plt.gca().set_aspect('equal', 'datalim')"
   ]
  },
  {
   "cell_type": "code",
   "execution_count": null,
   "metadata": {},
   "outputs": [],
   "source": [
    "reducer = umap.UMAP(random_state=369)\n",
    "umap_embedding = reducer.fit_transform(X_data_one_hot)\n",
    "plt.scatter(\n",
    "    umap_embedding[:, 0],\n",
    "    umap_embedding[:, 1],\n",
    "    c=y_data.values.astype(int), s=1, cmap='Spectral')\n",
    "plt.gca().set_aspect('equal', 'datalim')"
   ]
  },
  {
   "cell_type": "code",
   "execution_count": null,
   "metadata": {},
   "outputs": [],
   "source": []
  }
 ],
 "metadata": {
  "kernelspec": {
   "display_name": "Python 3",
   "language": "python",
   "name": "python3"
  },
  "language_info": {
   "codemirror_mode": {
    "name": "ipython",
    "version": 3
   },
   "file_extension": ".py",
   "mimetype": "text/x-python",
   "name": "python",
   "nbconvert_exporter": "python",
   "pygments_lexer": "ipython3",
   "version": "3.8.5"
  }
 },
 "nbformat": 4,
 "nbformat_minor": 4
}

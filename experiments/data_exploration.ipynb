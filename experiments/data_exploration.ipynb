{
 "cells": [
  {
   "cell_type": "code",
   "execution_count": 1,
   "metadata": {},
   "outputs": [],
   "source": [
    "import pandas as pd\n",
    "import numpy as np\n",
    "import os\n",
    "raw_data = pd.read_csv(os.path.join('..', 'data', 'Restroke_SPSS.csv'))\n",
    "raw_data.replace({999.0: np.nan}, inplace=True)"
   ]
  },
  {
   "cell_type": "code",
   "execution_count": 2,
   "metadata": {},
   "outputs": [
    {
     "name": "stdout",
     "output_type": "stream",
     "text": [
      "Subjects:7870, Features:62\n"
     ]
    }
   ],
   "source": [
    "print('Subjects:{}, Features:{}'.format(raw_data.shape[0], raw_data.shape[1]))"
   ]
  },
  {
   "cell_type": "code",
   "execution_count": 3,
   "metadata": {},
   "outputs": [
    {
     "data": {
      "text/html": [
       "<div>\n",
       "<style scoped>\n",
       "    .dataframe tbody tr th:only-of-type {\n",
       "        vertical-align: middle;\n",
       "    }\n",
       "\n",
       "    .dataframe tbody tr th {\n",
       "        vertical-align: top;\n",
       "    }\n",
       "\n",
       "    .dataframe thead th {\n",
       "        text-align: right;\n",
       "    }\n",
       "</style>\n",
       "<table border=\"1\" class=\"dataframe\">\n",
       "  <thead>\n",
       "    <tr style=\"text-align: right;\">\n",
       "      <th></th>\n",
       "      <th>CHT_No</th>\n",
       "      <th>Sex</th>\n",
       "      <th>Age</th>\n",
       "      <th>HTN</th>\n",
       "      <th>DM</th>\n",
       "      <th>Dyslipidemia</th>\n",
       "      <th>AF</th>\n",
       "      <th>CVA_Hx</th>\n",
       "      <th>CT_Old_Lesion</th>\n",
       "      <th>Smoking</th>\n",
       "      <th>...</th>\n",
       "      <th>CT_0ew_Lesio0</th>\n",
       "      <th>Alcohol</th>\n",
       "      <th>Adm_AF_0otEKG</th>\n",
       "      <th>EKG_AF</th>\n",
       "      <th>BU0-Cr Ratio</th>\n",
       "      <th>BUN-Cr</th>\n",
       "      <th>Glucose</th>\n",
       "      <th>NIHSS_Dis</th>\n",
       "      <th>BI_Dis</th>\n",
       "      <th>MRS_Dis</th>\n",
       "    </tr>\n",
       "  </thead>\n",
       "  <tbody>\n",
       "    <tr>\n",
       "      <th>0</th>\n",
       "      <td>20290.0</td>\n",
       "      <td>0.0</td>\n",
       "      <td>74.0</td>\n",
       "      <td>1.0</td>\n",
       "      <td>0.0</td>\n",
       "      <td>0.0</td>\n",
       "      <td>0.0</td>\n",
       "      <td>0.0</td>\n",
       "      <td>0.0</td>\n",
       "      <td>0.0</td>\n",
       "      <td>...</td>\n",
       "      <td>1.0</td>\n",
       "      <td>0.0</td>\n",
       "      <td>0.0</td>\n",
       "      <td>NaN</td>\n",
       "      <td>NaN</td>\n",
       "      <td>NaN</td>\n",
       "      <td>NaN</td>\n",
       "      <td>0.0</td>\n",
       "      <td>100.0</td>\n",
       "      <td>1</td>\n",
       "    </tr>\n",
       "    <tr>\n",
       "      <th>1</th>\n",
       "      <td>23614.0</td>\n",
       "      <td>0.0</td>\n",
       "      <td>87.0</td>\n",
       "      <td>1.0</td>\n",
       "      <td>1.0</td>\n",
       "      <td>0.0</td>\n",
       "      <td>1.0</td>\n",
       "      <td>0.0</td>\n",
       "      <td>0.0</td>\n",
       "      <td>0.0</td>\n",
       "      <td>...</td>\n",
       "      <td>1.0</td>\n",
       "      <td>0.0</td>\n",
       "      <td>1.0</td>\n",
       "      <td>1.0</td>\n",
       "      <td>16.14</td>\n",
       "      <td>0.0</td>\n",
       "      <td>94.0</td>\n",
       "      <td>1.0</td>\n",
       "      <td>100.0</td>\n",
       "      <td>1</td>\n",
       "    </tr>\n",
       "    <tr>\n",
       "      <th>2</th>\n",
       "      <td>24832.0</td>\n",
       "      <td>0.0</td>\n",
       "      <td>65.0</td>\n",
       "      <td>0.0</td>\n",
       "      <td>0.0</td>\n",
       "      <td>0.0</td>\n",
       "      <td>0.0</td>\n",
       "      <td>0.0</td>\n",
       "      <td>NaN</td>\n",
       "      <td>0.0</td>\n",
       "      <td>...</td>\n",
       "      <td>NaN</td>\n",
       "      <td>0.0</td>\n",
       "      <td>0.0</td>\n",
       "      <td>0.0</td>\n",
       "      <td>NaN</td>\n",
       "      <td>NaN</td>\n",
       "      <td>84.0</td>\n",
       "      <td>2.0</td>\n",
       "      <td>100.0</td>\n",
       "      <td>1</td>\n",
       "    </tr>\n",
       "    <tr>\n",
       "      <th>3</th>\n",
       "      <td>34018.0</td>\n",
       "      <td>0.0</td>\n",
       "      <td>75.0</td>\n",
       "      <td>1.0</td>\n",
       "      <td>1.0</td>\n",
       "      <td>0.0</td>\n",
       "      <td>0.0</td>\n",
       "      <td>0.0</td>\n",
       "      <td>0.0</td>\n",
       "      <td>0.0</td>\n",
       "      <td>...</td>\n",
       "      <td>1.0</td>\n",
       "      <td>0.0</td>\n",
       "      <td>0.0</td>\n",
       "      <td>0.0</td>\n",
       "      <td>19.63</td>\n",
       "      <td>0.0</td>\n",
       "      <td>NaN</td>\n",
       "      <td>2.0</td>\n",
       "      <td>100.0</td>\n",
       "      <td>1</td>\n",
       "    </tr>\n",
       "    <tr>\n",
       "      <th>4</th>\n",
       "      <td>45874.0</td>\n",
       "      <td>0.0</td>\n",
       "      <td>84.0</td>\n",
       "      <td>0.0</td>\n",
       "      <td>0.0</td>\n",
       "      <td>1.0</td>\n",
       "      <td>1.0</td>\n",
       "      <td>1.0</td>\n",
       "      <td>1.0</td>\n",
       "      <td>0.0</td>\n",
       "      <td>...</td>\n",
       "      <td>0.0</td>\n",
       "      <td>0.0</td>\n",
       "      <td>0.0</td>\n",
       "      <td>1.0</td>\n",
       "      <td>28.57</td>\n",
       "      <td>1.0</td>\n",
       "      <td>133.0</td>\n",
       "      <td>31.0</td>\n",
       "      <td>0.0</td>\n",
       "      <td>5</td>\n",
       "    </tr>\n",
       "  </tbody>\n",
       "</table>\n",
       "<p>5 rows × 62 columns</p>\n",
       "</div>"
      ],
      "text/plain": [
       "    CHT_No  Sex   Age  HTN   DM  Dyslipidemia   AF  CVA_Hx  CT_Old_Lesion  \\\n",
       "0  20290.0  0.0  74.0  1.0  0.0           0.0  0.0     0.0            0.0   \n",
       "1  23614.0  0.0  87.0  1.0  1.0           0.0  1.0     0.0            0.0   \n",
       "2  24832.0  0.0  65.0  0.0  0.0           0.0  0.0     0.0            NaN   \n",
       "3  34018.0  0.0  75.0  1.0  1.0           0.0  0.0     0.0            0.0   \n",
       "4  45874.0  0.0  84.0  0.0  0.0           1.0  1.0     1.0            1.0   \n",
       "\n",
       "   Smoking  ...  CT_0ew_Lesio0  Alcohol  Adm_AF_0otEKG  EKG_AF  BU0-Cr Ratio  \\\n",
       "0      0.0  ...            1.0      0.0            0.0     NaN           NaN   \n",
       "1      0.0  ...            1.0      0.0            1.0     1.0         16.14   \n",
       "2      0.0  ...            NaN      0.0            0.0     0.0           NaN   \n",
       "3      0.0  ...            1.0      0.0            0.0     0.0         19.63   \n",
       "4      0.0  ...            0.0      0.0            0.0     1.0         28.57   \n",
       "\n",
       "   BUN-Cr  Glucose  NIHSS_Dis  BI_Dis  MRS_Dis  \n",
       "0     NaN      NaN        0.0   100.0        1  \n",
       "1     0.0     94.0        1.0   100.0        1  \n",
       "2     NaN     84.0        2.0   100.0        1  \n",
       "3     0.0      NaN        2.0   100.0        1  \n",
       "4     1.0    133.0       31.0     0.0        5  \n",
       "\n",
       "[5 rows x 62 columns]"
      ]
     },
     "execution_count": 3,
     "metadata": {},
     "output_type": "execute_result"
    }
   ],
   "source": [
    "raw_data.head()"
   ]
  },
  {
   "cell_type": "code",
   "execution_count": 4,
   "metadata": {
    "pycharm": {
     "name": "#%%\n"
    },
    "scrolled": true
   },
   "outputs": [
    {
     "name": "stdout",
     "output_type": "stream",
     "text": [
      "Age_mean: 67.75, Age_std: 12.74,\n",
      "Male:62.48%\n",
      "reStroke:8.58%\n"
     ]
    }
   ],
   "source": [
    "print('Age_mean: %.2f, Age_std: %.2f,' %(np.mean(raw_data.Age), np.std(raw_data.Age)))\n",
    "male_protion = (raw_data[raw_data.Sex==1].shape[0]/raw_data.Sex.shape[0])*100\n",
    "print('Male:%.2f%%' %male_protion)\n",
    "restroke_protion = (raw_data[raw_data.reStroke==1].shape[0]/raw_data.reStroke.shape[0])*100\n",
    "print('reStroke:%.2f%%' %restroke_protion)"
   ]
  },
  {
   "cell_type": "code",
   "execution_count": 5,
   "metadata": {
    "pycharm": {
     "name": "#%%\n"
    }
   },
   "outputs": [
    {
     "name": "stdout",
     "output_type": "stream",
     "text": [
      "Tidy_subjects:927, Tidy_features:62\n",
      "Tidy_Age_mean: 67.44, Tidy_Age_std: 13.12\n",
      "Tidy_Male:64.94%\n",
      "Tidy_reStroke:7.77%\n"
     ]
    }
   ],
   "source": [
    "tidy_data = raw_data.dropna(axis=0)\n",
    "# tidy_data.to_csv('tidy.csv', index=False)\n",
    "print('Tidy_subjects:{}, Tidy_features:{}'.format(tidy_data.shape[0], tidy_data.shape[1]))\n",
    "print('Tidy_Age_mean: %.2f, Tidy_Age_std: %.2f' %(np.mean(tidy_data.Age), np.std(tidy_data.Age)))\n",
    "tidy_male_protion = (tidy_data[tidy_data.Sex==1].shape[0]/tidy_data.Sex.shape[0])*100\n",
    "print('Tidy_Male:%.2f%%' %tidy_male_protion)\n",
    "tidy_restroke_protion = (tidy_data[tidy_data.reStroke==1].shape[0]/tidy_data.reStroke.shape[0])*100\n",
    "print('Tidy_reStroke:%.2f%%' %tidy_restroke_protion)"
   ]
  },
  {
   "cell_type": "code",
   "execution_count": 6,
   "metadata": {
    "pycharm": {
     "name": "#%%\n"
    }
   },
   "outputs": [
    {
     "name": "stdout",
     "output_type": "stream",
     "text": [
      "(927, 60) (927, 1)\n"
     ]
    }
   ],
   "source": [
    "X_data = tidy_data.drop(['CHT_No', 'reStroke'], axis=1)\n",
    "y_data = tidy_data[['reStroke']]\n",
    "print(X_data.shape, y_data.shape)"
   ]
  },
  {
   "cell_type": "code",
   "execution_count": 7,
   "metadata": {},
   "outputs": [],
   "source": [
    "from sklearn.svm import SVC\n",
    "from sklearn.model_selection import KFold\n",
    "from sklearn.metrics import auc, roc_curve\n",
    "from sklearn import preprocessing\n",
    "from imblearn import over_sampling"
   ]
  },
  {
   "cell_type": "code",
   "execution_count": 8,
   "metadata": {},
   "outputs": [
    {
     "name": "stdout",
     "output_type": "stream",
     "text": [
      "SVM--\n",
      "auc 0.638235294117647\n",
      "auc 0.5421455938697318\n",
      "auc 0.5529411764705883\n",
      "auc 0.5112359550561798\n",
      "auc 0.606312292358804\n",
      "auc 0.5199556541019956\n",
      "auc 0.4985294117647059\n",
      "auc 0.4117647058823529\n",
      "auc 0.5647058823529412\n",
      "auc 0.5406976744186047\n",
      "auc_mean: 0.54, auc_std: 0.06\n"
     ]
    }
   ],
   "source": [
    "from sklearn.svm import SVC\n",
    "svm_all_auroc = []\n",
    "print('SVM--')\n",
    "for train_index, test_index in KFold(n_splits=10, random_state=42, shuffle=True).split(X_data):\n",
    "    X_train, X_test = X_data.iloc[train_index], X_data.iloc[test_index]\n",
    "    y_train, y_test = y_data.iloc[train_index], y_data.iloc[test_index]\n",
    "    # scaling\n",
    "    scaler = preprocessing.MinMaxScaler()\n",
    "    #scaler = preprocessing.StandardScaler()\n",
    "    X_train = scaler.fit_transform(X_train)\n",
    "    X_test = scaler.transform(X_test)\n",
    "    # over-sampling\n",
    "    #print('before', y_train.groupby(['reStroke']).size())\n",
    "    sm = over_sampling.SMOTE(random_state=42)\n",
    "    X_train, y_train = sm.fit_resample(X_train, y_train)\n",
    "    #print('after', y_train.groupby(['reStroke']).size())\n",
    "    # model\n",
    "    model = SVC(kernel='rbf', probability=True)\n",
    "    model.fit(X_train, y_train.values.ravel())\n",
    "    y_pred = model.predict_proba(X_test)\n",
    "    fpr, tpr, thresholds = roc_curve(y_test, y_pred[:, 1])\n",
    "    auroc = auc(fpr, tpr)\n",
    "    print('auc', auroc)\n",
    "    svm_all_auroc.append(auroc)\n",
    "print('auc_mean: %.2f, auc_std: %.2f' %(np.mean(svm_all_auroc), np.std(svm_all_auroc)))"
   ]
  },
  {
   "cell_type": "code",
   "execution_count": 9,
   "metadata": {},
   "outputs": [
    {
     "name": "stdout",
     "output_type": "stream",
     "text": [
      "LogisticRegression--\n",
      "auc 0.5176470588235293\n",
      "auc 0.41954022988505746\n",
      "auc 0.6132352941176471\n",
      "auc 0.4859550561797753\n",
      "auc 0.5664451827242525\n",
      "auc 0.5343680709534367\n",
      "auc 0.46470588235294125\n",
      "auc 0.549579831932773\n",
      "auc 0.6252100840336133\n",
      "auc 0.6531007751937985\n",
      "auc_mean: 0.54, auc_std: 0.07\n"
     ]
    }
   ],
   "source": [
    "from sklearn.linear_model import LogisticRegression\n",
    "lr_all_auroc = []\n",
    "print('LogisticRegression--')\n",
    "for train_index, test_index in KFold(n_splits=10, random_state=42, shuffle=True).split(X_data):\n",
    "    X_train, X_test = X_data.iloc[train_index], X_data.iloc[test_index]\n",
    "    y_train, y_test = y_data.iloc[train_index], y_data.iloc[test_index]\n",
    "    # scaling\n",
    "    scaler = preprocessing.MinMaxScaler()\n",
    "    X_train = scaler.fit_transform(X_train)\n",
    "    X_test = scaler.transform(X_test)\n",
    "    # over-sampling\n",
    "    #print('before', y_train.groupby(['reStroke']).size())\n",
    "    sm = over_sampling.SMOTE(random_state=42)\n",
    "    X_train, y_train = sm.fit_resample(X_train, y_train)\n",
    "    #print('after', y_train.groupby(['reStroke']).size())\n",
    "    # model\n",
    "    model = LogisticRegression(penalty='l1', solver='saga', tol=0.1)\n",
    "    model.fit(X_train, y_train.values.ravel())\n",
    "    y_pred = model.predict_proba(X_test)\n",
    "    fpr, tpr, thresholds = roc_curve(y_test, y_pred[:, 1])\n",
    "    auroc = auc(fpr, tpr)\n",
    "    print('auc', auroc)\n",
    "    lr_all_auroc.append(auroc)\n",
    "print('auc_mean: %.2f, auc_std: %.2f' %(np.mean(lr_all_auroc), np.std(lr_all_auroc)))"
   ]
  },
  {
   "cell_type": "code",
   "execution_count": 10,
   "metadata": {},
   "outputs": [
    {
     "name": "stdout",
     "output_type": "stream",
     "text": [
      "ExtraTreesClassifier--\n",
      "auc 0.65\n",
      "auc 0.6168582375478927\n",
      "auc 0.6139705882352942\n",
      "auc 0.5997191011235955\n",
      "auc 0.5705980066445183\n",
      "auc 0.6025498891352551\n",
      "auc 0.6044117647058824\n",
      "auc 0.5092436974789916\n",
      "auc 0.653781512605042\n",
      "auc 0.5784883720930233\n",
      "auc_mean: 0.60, auc_std: 0.04\n"
     ]
    }
   ],
   "source": [
    "from sklearn.ensemble import ExtraTreesClassifier\n",
    "et_all_auroc = []\n",
    "print('ExtraTreesClassifier--')\n",
    "for train_index, test_index in KFold(n_splits=10, random_state=42, shuffle=True).split(X_data):\n",
    "    X_train, X_test = X_data.iloc[train_index], X_data.iloc[test_index]\n",
    "    y_train, y_test = y_data.iloc[train_index], y_data.iloc[test_index]\n",
    "    # scaling\n",
    "    scaler = preprocessing.MinMaxScaler()\n",
    "    X_train = scaler.fit_transform(X_train)\n",
    "    X_test = scaler.transform(X_test)\n",
    "    # over-sampling\n",
    "    #print('before', y_train.groupby(['reStroke']).size())\n",
    "    sm = over_sampling.SMOTE(random_state=42)\n",
    "    X_train, y_train = sm.fit_resample(X_train, y_train)\n",
    "    #print('after', y_train.groupby(['reStroke']).size())\n",
    "    # model\n",
    "    model = ExtraTreesClassifier(n_estimators=250,  random_state=42)\n",
    "    model.fit(X_train, y_train.values.ravel())\n",
    "    y_pred = model.predict_proba(X_test)\n",
    "    fpr, tpr, thresholds = roc_curve(y_test, y_pred[:, 1])\n",
    "    auroc = auc(fpr, tpr)\n",
    "    print('auc', auroc)\n",
    "    et_all_auroc.append(auroc)\n",
    "print('auc_mean: %.2f, auc_std: %.2f' %(np.mean(et_all_auroc), np.std(et_all_auroc)))"
   ]
  },
  {
   "cell_type": "code",
   "execution_count": null,
   "metadata": {},
   "outputs": [],
   "source": []
  }
 ],
 "metadata": {
  "kernelspec": {
   "display_name": "Python 3",
   "language": "python",
   "name": "python3"
  },
  "language_info": {
   "codemirror_mode": {
    "name": "ipython",
    "version": 3
   },
   "file_extension": ".py",
   "mimetype": "text/x-python",
   "name": "python",
   "nbconvert_exporter": "python",
   "pygments_lexer": "ipython3",
   "version": "3.8.5"
  }
 },
 "nbformat": 4,
 "nbformat_minor": 1
}
